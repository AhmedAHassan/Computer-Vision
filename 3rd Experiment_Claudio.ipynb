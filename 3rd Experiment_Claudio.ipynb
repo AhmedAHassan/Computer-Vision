{
 "cells": [
  {
   "cell_type": "code",
   "execution_count": 113,
   "metadata": {},
   "outputs": [],
   "source": [
    "import numpy as np\n",
    "import cv2\n",
    "import matplotlib.pyplot as plt\n",
    "import os\n",
    "import glob"
   ]
  },
  {
   "cell_type": "code",
   "execution_count": 114,
   "metadata": {},
   "outputs": [],
   "source": [
    "os.chdir(r'C:\\Users\\hp\\Videos\\Step1-fixedDistance_avg,std\\Folders\\2016-11-22-14-23-08-Claudio_onlythermalthermal_image-txt')"
   ]
  },
  {
   "cell_type": "code",
   "execution_count": 118,
   "metadata": {},
   "outputs": [
    {
     "ename": "IndentationError",
     "evalue": "unexpected indent (<ipython-input-118-ab3b7ca54f86>, line 70)",
     "output_type": "error",
     "traceback": [
      "\u001b[1;36m  File \u001b[1;32m\"<ipython-input-118-ab3b7ca54f86>\"\u001b[1;36m, line \u001b[1;32m70\u001b[0m\n\u001b[1;33m    rect = cv2.minAreaRect(c)\u001b[0m\n\u001b[1;37m    ^\u001b[0m\n\u001b[1;31mIndentationError\u001b[0m\u001b[1;31m:\u001b[0m unexpected indent\n"
     ]
    }
   ],
   "source": [
    "count = 0\n",
    "forehead_vals = np.array([])\n",
    "nose_vals = np.array([])\n",
    "forehead_avg = np.array([])\n",
    "nose_avg = np.array([])\n",
    "\n",
    "for idx,i in enumerate(glob.glob('*.txt')):\n",
    "    # threshold image\n",
    "    # ret, threshed_img = cv2.threshold(text, 127, 255, cv2.THRESH_BINARY)\n",
    "    text = np.loadtxt(i) #the text file of the image\n",
    "    plt.imshow(text, cmap='gray')\n",
    "    plt.show()\n",
    "    \n",
    "    face = np.where((text < 32) | (text > 37.0), 0, 255).astype(np.uint8)\n",
    "    plt.imshow(face, cmap='binary')\n",
    "    plt.show()\n",
    "               \n",
    "    kernel = np.ones((5, 5), np.uint8)\n",
    "    closing = cv2.morphologyEx(face, cv2.MORPH_CLOSE, kernel)\n",
    "    plt.imshow(closing, cmap='binary')\n",
    "    plt.show()\n",
    "    \n",
    "    # find contours and get the external one\n",
    "    threshed_img = closing.copy()\n",
    "\n",
    "    img = text.copy()\n",
    "\n",
    "    contours, hier = cv2.findContours(threshed_img, cv2.RETR_TREE, cv2.CHAIN_APPROX_SIMPLE)\n",
    "\n",
    "\n",
    "\n",
    "    #image, contours, hier = cv2.findContours(threshed_img, cv2.RETR_TREE,\n",
    "    #                cv2.CHAIN_APPROX_SIMPLE)\n",
    "\n",
    "    # with each contour, draw boundingRect in green\n",
    "    # a minAreaRect in red and\n",
    "    # a minEnclosingCircle in blue\n",
    "    for c in contours[-2:][:1]:\n",
    "        # get the bounding rect\n",
    "        x, y, w, h = cv2.boundingRect(c)\n",
    "        # draw a green rectangle to visualize the bounding rect\n",
    "\n",
    "        face = cv2.rectangle(img, (x, y), (x+w, y+h), (0, 255, 0), 2)\n",
    "'''\n",
    "        xmin_forehead = int(x+w*0.3)\n",
    "        xmax_forehead = int(x+w*0.8)\n",
    "\n",
    "        ymin_forehead = int(y+h*0.10)\n",
    "        ymax_forehead = int(y+h*0.32)\n",
    "\n",
    "        xmin_nose = int(x+w*0.3)\n",
    "        xmax_nose = int(x+w*0.77)\n",
    "\n",
    "        ymin_nose = int(y+h*0.38)\n",
    "        ymax_nose = int(y+h*0.58)\n",
    "\n",
    "\n",
    "        forehead = cv2.rectangle(img, (xmin_forehead, ymin_forehead), (xmax_forehead, ymax_forehead), (0, 255, 0), 2) \n",
    "        nose = cv2.rectangle(img, (xmin_nose, ymin_nose), (xmax_nose, ymax_nose), (0, 255, 0), 2) \n",
    "\n",
    "\n",
    "        xforehead_range = np.arange(xmin_forehead, xmax_forehead +1, 1) #np.arange(158,196 +1, 1)\n",
    "        yforehead_range = np.arange(ymin_forehead, ymax_forehead+1, 1)#np.arange(130,158 +1, 1)\n",
    "\n",
    "        xnose_range = np.arange(xmin_nose, xmax_nose +1, 1)\n",
    "        ynose_range = np.arange(ymin_nose, ymax_nose +1, 1)\n",
    "'''\n",
    "\n",
    "        # get the min area rect\n",
    "        rect = cv2.minAreaRect(c)\n",
    "        box = cv2.boxPoints(rect)\n",
    "        # convert all coordinates floating point values to int\n",
    "        box = np.int0(box)\n",
    "        \n",
    "    plt.imshow(img, cmap='jet')   \n",
    "    if idx == 0:\n",
    "        break\n",
    "        # draw a red 'nghien' rectangle\n",
    "        # cv2.drawContours(img, [box], 0, (0, 0, 255))\n",
    "\n",
    "        # finally, get the min enclosing circle\n",
    "        # (x, y), radius = cv2.minEnclosingCircle(c)\n",
    "        # convert all values to int\n",
    "        # center = (int(x), int(y))\n",
    "        # radius = int(radius)\n",
    "        # and draw the circle in blue\n",
    "        # img = cv2.circle(img, center, radius, (255, 0, 0), 2)\n",
    "\n",
    "    # img_w_contours = cv2.drawContours(img, contours, -1, (38, 255, 0), 1)"
   ]
  },
  {
   "cell_type": "code",
   "execution_count": 117,
   "metadata": {},
   "outputs": [],
   "source": [
    "forehead_vals = np.array([])\n",
    "nose_vals = np.array([])\n",
    "forehead_avg = np.array([])\n",
    "nose_avg = np.array([])\n",
    "\n",
    "for idx,i in enumerate(glob.glob('*.txt')):\n",
    "    text = np.loadtxt(i)\n",
    "    \n",
    "    threshed_val = np.where((text>=32.0) & (text<=37.0) , text, 0)\n",
    "    \n",
    "    for x1 in xforehead_range:\n",
    "        for y1 in yforehead_range:\n",
    "            #print(x1,y1)\n",
    "            #print(threshed_val[x1][y1])\n",
    "            forehead_vals = np.append(forehead_vals,threshed_val[x1,y1])\n",
    "    forehead_avg = np.append(forehead_avg, np.mean(forehead_vals[forehead_vals > 0]))\n",
    "\n",
    "    for x2 in  xnose_range:\n",
    "        for y2 in ynose_range:\n",
    "            #print(x1,y1)\n",
    "            #print(threshed_val[x1][y1])\n",
    "            nose_vals = np.append(nose_vals, threshed_val[x2,y2])    \n",
    "\n",
    "    nose_avg = np.append(nose_avg, np.mean(nose_vals[nose_vals > 0]))\n",
    "    if idx == 99:\n",
    "        break"
   ]
  },
  {
   "cell_type": "code",
   "execution_count": 93,
   "metadata": {},
   "outputs": [
    {
     "data": {
      "text/plain": [
       "(array([ 1, 99], dtype=int64),)"
      ]
     },
     "execution_count": 93,
     "metadata": {},
     "output_type": "execute_result"
    }
   ],
   "source": [
    "arr_fore = np.fft.fft(forehead_avg)\n",
    "abs_fore = np.abs(arr_fore)\n",
    "absMax_fore = abs_fore[1:].max()\n",
    "np.where(abs_fore == absMax_fore)"
   ]
  },
  {
   "cell_type": "code",
   "execution_count": 94,
   "metadata": {},
   "outputs": [
    {
     "data": {
      "text/plain": [
       "69.71355830663292"
      ]
     },
     "execution_count": 94,
     "metadata": {},
     "output_type": "execute_result"
    }
   ],
   "source": [
    "np.linspace(0,np.abs(arr_fore.max()),100)[2]"
   ]
  },
  {
   "cell_type": "code",
   "execution_count": 95,
   "metadata": {},
   "outputs": [
    {
     "data": {
      "text/plain": [
       "(array([ 1, 99], dtype=int64),)"
      ]
     },
     "execution_count": 95,
     "metadata": {},
     "output_type": "execute_result"
    }
   ],
   "source": [
    "arr_nose = np.fft.fft(nose_avg)\n",
    "abs_nose = np.abs(arr_nose)\n",
    "absMax_nose = abs_nose[1:].max()\n",
    "np.where(abs_nose == absMax_nose)"
   ]
  },
  {
   "cell_type": "code",
   "execution_count": 99,
   "metadata": {
    "scrolled": true
   },
   "outputs": [
    {
     "data": {
      "text/plain": [
       "34.97212026985794"
      ]
     },
     "execution_count": 99,
     "metadata": {},
     "output_type": "execute_result"
    }
   ],
   "source": [
    "np.linspace(0,np.abs(arr_nose.max()),100)[1]"
   ]
  },
  {
   "cell_type": "code",
   "execution_count": 100,
   "metadata": {},
   "outputs": [],
   "source": [
    "import pandas as pd"
   ]
  },
  {
   "cell_type": "code",
   "execution_count": null,
   "metadata": {},
   "outputs": [],
   "source": [
    "69.24910876237216\n",
    "35.886248166820515\n",
    "\n",
    "69.71355830663292\n",
    "34.97212026985794"
   ]
  },
  {
   "cell_type": "code",
   "execution_count": 110,
   "metadata": {},
   "outputs": [
    {
     "data": {
      "text/html": [
       "<div>\n",
       "<style scoped>\n",
       "    .dataframe tbody tr th:only-of-type {\n",
       "        vertical-align: middle;\n",
       "    }\n",
       "\n",
       "    .dataframe tbody tr th {\n",
       "        vertical-align: top;\n",
       "    }\n",
       "\n",
       "    .dataframe thead th {\n",
       "        text-align: right;\n",
       "    }\n",
       "</style>\n",
       "<table border=\"1\" class=\"dataframe\">\n",
       "  <thead>\n",
       "    <tr style=\"text-align: right;\">\n",
       "      <th></th>\n",
       "      <th>Name</th>\n",
       "      <th>Hearbeat Rate (Beat-PM)</th>\n",
       "      <th>Respiration Rate (Breaths-PM)</th>\n",
       "    </tr>\n",
       "  </thead>\n",
       "  <tbody>\n",
       "    <tr>\n",
       "      <td>0</td>\n",
       "      <td>Joao</td>\n",
       "      <td>69.249109</td>\n",
       "      <td>69.713558</td>\n",
       "    </tr>\n",
       "    <tr>\n",
       "      <td>1</td>\n",
       "      <td>Claudio</td>\n",
       "      <td>35.886248</td>\n",
       "      <td>34.972120</td>\n",
       "    </tr>\n",
       "  </tbody>\n",
       "</table>\n",
       "</div>"
      ],
      "text/plain": [
       "      Name  Hearbeat Rate (Beat-PM)  Respiration Rate (Breaths-PM)\n",
       "0     Joao                69.249109                      69.713558\n",
       "1  Claudio                35.886248                      34.972120"
      ]
     },
     "execution_count": 110,
     "metadata": {},
     "output_type": "execute_result"
    }
   ],
   "source": [
    "pd.DataFrame({\"Name\":['Joao', 'Claudio'],\n",
    "                     'Hearbeat Rate (Beat-PM)':[69.24910876237216, 35.886248166820515],\n",
    "                     'Respiration Rate (Breaths-PM)':[69.71355830663292, 34.97212026985794]\n",
    "                     })"
   ]
  }
 ],
 "metadata": {
  "kernelspec": {
   "display_name": "Python 3",
   "language": "python",
   "name": "python3"
  },
  "language_info": {
   "codemirror_mode": {
    "name": "ipython",
    "version": 3
   },
   "file_extension": ".py",
   "mimetype": "text/x-python",
   "name": "python",
   "nbconvert_exporter": "python",
   "pygments_lexer": "ipython3",
   "version": "3.7.4"
  }
 },
 "nbformat": 4,
 "nbformat_minor": 2
}
